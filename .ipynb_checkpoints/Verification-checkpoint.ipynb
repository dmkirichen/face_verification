{
 "cells": [
  {
   "cell_type": "code",
   "execution_count": 3,
   "metadata": {},
   "outputs": [],
   "source": [
    "# face verification with the VGGFace2 model\n",
    "from matplotlib import pyplot\n",
    "from PIL import Image\n",
    "from numpy import asarray\n",
    "from scipy.spatial.distance import cosine\n",
    "from mtcnn.mtcnn import MTCNN\n",
    "from keras_vggface.vggface import VGGFace\n",
    "from keras_vggface.utils import preprocess_input"
   ]
  },
  {
   "cell_type": "code",
   "execution_count": 19,
   "metadata": {},
   "outputs": [],
   "source": [
    "def get_face(filename, required_size=(224, 224)):\n",
    "    \"\"\"\n",
    "    Extracts face from the image.\n",
    "    \"\"\"\n",
    "    \n",
    "    pixels = pyplot.imread(filename)\n",
    "    detector = MTCNN()\n",
    "    results = detector.detect_faces(pixels)\n",
    "    x1, y1, width, height = results[0]['box']\n",
    "    x2, y2 = x1 + width, y1 + height\n",
    "    face = pixels[y1:y2, x1:x2]\n",
    "    image = Image.fromarray(face)\n",
    "    image = image.resize(required_size)\n",
    "    face_array = asarray(image)\n",
    "    return face_array\n",
    " \n",
    "\n",
    "def get_embeddings(filenames, path_to_dir='.'):\n",
    "    \"\"\"\n",
    "    Get embeddings of the faces.\n",
    "    \"\"\"\n",
    "    \n",
    "    mod_filenames = [path_to_dir + f for f in filenames]\n",
    "    \n",
    "    faces = [get_face(f) for f in mod_filenames]\n",
    "    samples = asarray(faces, 'float32')\n",
    "    samples = preprocess_input(samples, version=2)\n",
    "    \n",
    "    # include_top = False  -->  model without classifier.\n",
    "    # pooling = 'avg'  -->  h x w x d layer into 1 x 1 x d\n",
    "    model = VGGFace(model='resnet50', include_top=False, input_shape=(224, 224, 3), pooling='avg')\n",
    "    \n",
    "    yhat = model.predict(samples)\n",
    "    return yhat\n",
    " \n",
    "\n",
    "def is_match(known_embedding, candidate_embedding, thresh=0.6):\n",
    "    \"\"\"\n",
    "    Finds out, if the embedding corresponds to the same person.\n",
    "    \"\"\"\n",
    "    \n",
    "    # Calculates cosine distance between vectors.\n",
    "    score = cosine(known_embedding, candidate_embedding)\n",
    "    print(score)\n",
    "    if score <= thresh:\n",
    "        print('It is the same person ({:.3f} <= {:.3f})'.format(score, thresh))\n",
    "    else:\n",
    "        print('It is NOT the same person ({:.3f} > {:.3f})'.format(score, thresh))"
   ]
  },
  {
   "cell_type": "code",
   "execution_count": 20,
   "metadata": {},
   "outputs": [],
   "source": [
    "PATH_TO_DIR = \"./LabeledFacesInTheWild/\""
   ]
  },
  {
   "cell_type": "code",
   "execution_count": 21,
   "metadata": {
    "scrolled": false
   },
   "outputs": [
    {
     "name": "stdout",
     "output_type": "stream",
     "text": [
      "Positive Tests\n",
      "0.5904906690120697\n",
      "It is the same person (0.590 <= 0.600)\n",
      "0.5254258215427399\n",
      "It is the same person (0.525 <= 0.600)\n",
      "Negative Tests\n",
      "0.7667727172374725\n",
      "It is NOT the same person (0.767 > 0.600)\n"
     ]
    }
   ],
   "source": [
    "filenames = [\"Johnny_Depp/Johnny_Depp_0001.jpg\", \"Johnny_Depp/Johnny_Depp_0002.jpg\",\n",
    "             \"Johnny_Depp/Johnny_Depp_0003.jpg\", \"George_W_Bush/George_W_Bush_0001.jpg\", \"Zico/Zico_0001.jpg\"]\n",
    "\n",
    "embeddings = get_embeddings(filenames, path_to_dir=PATH_TO_DIR)\n",
    "\n",
    "print('Positive Tests')\n",
    "is_match(embeddings[0], embeddings[1])\n",
    "is_match(embeddings[0], embeddings[2])\n",
    "\n",
    "print('Negative Tests')\n",
    "is_match(embeddings[0], embeddings[3])"
   ]
  },
  {
   "cell_type": "code",
   "execution_count": 22,
   "metadata": {},
   "outputs": [
    {
     "name": "stdout",
     "output_type": "stream",
     "text": [
      "0.6980427801609039\n",
      "It is NOT the same person (0.698 > 0.600)\n"
     ]
    }
   ],
   "source": [
    "is_match(embeddings[0], embeddings[4])"
   ]
  },
  {
   "cell_type": "code",
   "execution_count": null,
   "metadata": {},
   "outputs": [],
   "source": []
  }
 ],
 "metadata": {
  "kernelspec": {
   "display_name": "Python 3",
   "language": "python",
   "name": "python3"
  },
  "language_info": {
   "codemirror_mode": {
    "name": "ipython",
    "version": 3
   },
   "file_extension": ".py",
   "mimetype": "text/x-python",
   "name": "python",
   "nbconvert_exporter": "python",
   "pygments_lexer": "ipython3",
   "version": "3.7.3"
  }
 },
 "nbformat": 4,
 "nbformat_minor": 2
}
